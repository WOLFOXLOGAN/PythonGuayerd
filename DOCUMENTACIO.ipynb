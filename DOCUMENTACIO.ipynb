{
 "cells": [
  {
   "cell_type": "markdown",
   "id": "e982ff79",
   "metadata": {},
   "source": [
    "# Titulo  Principal"
   ]
  },
  {
   "cell_type": "markdown",
   "id": "1e36d5af",
   "metadata": {},
   "source": [
    "\n",
    "## Subtitulo"
   ]
  }
 ],
 "metadata": {
  "language_info": {
   "name": "python"
  }
 },
 "nbformat": 4,
 "nbformat_minor": 5
}
